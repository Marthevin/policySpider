{
 "cells": [
  {
   "cell_type": "code",
   "execution_count": 2,
   "metadata": {
    "collapsed": true
   },
   "outputs": [],
   "source": [
    "import re\n",
    "from pymysql import Connection\n",
    "\n",
    "HOST = 'localhost'\n",
    "USER='root'\n",
    "PASSWORD='admin'\n",
    "DATABASE='policyDB'\n",
    "PORT= 3306\n",
    "CHARSET = 'utf8mb4'\n",
    "connection = Connection(host=HOST,user=USER,password=PASSWORD,database=DATABASE,port=PORT,charset=CHARSET)\n",
    "cursor = connection.cursor()"
   ]
  },
  {
   "cell_type": "code",
   "execution_count": 3,
   "metadata": {
    "collapsed": true
   },
   "outputs": [],
   "source": [
    "sql = \"select url from url limit 10\""
   ]
  },
  {
   "cell_type": "code",
   "execution_count": 4,
   "metadata": {
    "collapsed": true
   },
   "outputs": [],
   "source": [
    "rs = cursor.execute(sql)"
   ]
  },
  {
   "cell_type": "code",
   "execution_count": 4,
   "metadata": {
    "collapsed": false
   },
   "outputs": [
    {
     "ename": "TypeError",
     "evalue": "'int' object is not iterable",
     "output_type": "error",
     "traceback": [
      "\u001b[1;31m---------------------------------------------------------------------------\u001b[0m",
      "\u001b[1;31mTypeError\u001b[0m                                 Traceback (most recent call last)",
      "\u001b[1;32m<ipython-input-4-d0bc3dcb8adf>\u001b[0m in \u001b[0;36m<module>\u001b[1;34m()\u001b[0m\n\u001b[1;32m----> 1\u001b[1;33m \u001b[1;32mfor\u001b[0m \u001b[0mrec\u001b[0m \u001b[1;32min\u001b[0m \u001b[0mrs\u001b[0m\u001b[1;33m:\u001b[0m\u001b[1;33m\u001b[0m\u001b[0m\n\u001b[0m\u001b[0;32m      2\u001b[0m     \u001b[1;32mprint\u001b[0m \u001b[0mrec\u001b[0m\u001b[1;33m\u001b[0m\u001b[0m\n",
      "\u001b[1;31mTypeError\u001b[0m: 'int' object is not iterable"
     ]
    }
   ],
   "source": [
    "for rec in rs:\n",
    "    print rec"
   ]
  },
  {
   "cell_type": "code",
   "execution_count": 5,
   "metadata": {
    "collapsed": false
   },
   "outputs": [
    {
     "data": {
      "text/plain": [
       "((u'http://fgk.chinalaw.gov.cn/article/dffg/199812/19981200421733.shtml',),\n",
       " (u'http://fgk.chinalaw.gov.cn/article/flk/200612/20061200409378.shtml',),\n",
       " (u'http://fgk.chinalaw.gov.cn/article/dffg/199106/19910600416780.shtml',),\n",
       " (u'http://fgk.chinalaw.gov.cn/article/dfgz/198009/19800900476734.shtml',),\n",
       " (u'http://fgk.chinalaw.gov.cn/article/dffg/200105/20010500424519.shtml',),\n",
       " (u'http://fgk.chinalaw.gov.cn/article/flk/201210/20121000409539.shtml',),\n",
       " (u'http://fgk.chinalaw.gov.cn/article/dfgz/198609/19860900476440.shtml',),\n",
       " (u'http://fgk.chinalaw.gov.cn/article/dfgz/199611/19961100472811.shtml',),\n",
       " (u'http://fgk.chinalaw.gov.cn/article/dfgz/201112/20111200476634.shtml',),\n",
       " (u'http://fgk.chinalaw.gov.cn/article/dffg/200909/20090900419883.shtml',))"
      ]
     },
     "execution_count": 5,
     "metadata": {},
     "output_type": "execute_result"
    }
   ],
   "source": [
    "cursor.fetchall()"
   ]
  },
  {
   "cell_type": "code",
   "execution_count": 6,
   "metadata": {
    "collapsed": true
   },
   "outputs": [],
   "source": [
    "rs = cursor.fetchall()"
   ]
  },
  {
   "cell_type": "code",
   "execution_count": 7,
   "metadata": {
    "collapsed": true
   },
   "outputs": [],
   "source": [
    "for rec in rs:\n",
    "    print rec"
   ]
  },
  {
   "cell_type": "code",
   "execution_count": 8,
   "metadata": {
    "collapsed": false
   },
   "outputs": [
    {
     "data": {
      "text/plain": [
       "tuple"
      ]
     },
     "execution_count": 8,
     "metadata": {},
     "output_type": "execute_result"
    }
   ],
   "source": [
    "type(rs)"
   ]
  },
  {
   "cell_type": "code",
   "execution_count": 9,
   "metadata": {
    "collapsed": true
   },
   "outputs": [],
   "source": [
    "for (rec) in rs:\n",
    "    print rec"
   ]
  },
  {
   "cell_type": "code",
   "execution_count": 10,
   "metadata": {
    "collapsed": false
   },
   "outputs": [
    {
     "name": "stdout",
     "output_type": "stream",
     "text": [
      "()\n"
     ]
    }
   ],
   "source": [
    "print rs"
   ]
  },
  {
   "cell_type": "code",
   "execution_count": 11,
   "metadata": {
    "collapsed": false
   },
   "outputs": [
    {
     "data": {
      "text/plain": [
       "()"
      ]
     },
     "execution_count": 11,
     "metadata": {},
     "output_type": "execute_result"
    }
   ],
   "source": [
    "cursor.fetchall()"
   ]
  },
  {
   "cell_type": "code",
   "execution_count": 12,
   "metadata": {
    "collapsed": false
   },
   "outputs": [
    {
     "data": {
      "text/plain": [
       "10"
      ]
     },
     "execution_count": 12,
     "metadata": {},
     "output_type": "execute_result"
    }
   ],
   "source": [
    "cursor.execute(sql)"
   ]
  },
  {
   "cell_type": "code",
   "execution_count": 13,
   "metadata": {
    "collapsed": false
   },
   "outputs": [
    {
     "data": {
      "text/plain": [
       "((u'http://fgk.chinalaw.gov.cn/article/dffg/199812/19981200421733.shtml',),\n",
       " (u'http://fgk.chinalaw.gov.cn/article/flk/200612/20061200409378.shtml',),\n",
       " (u'http://fgk.chinalaw.gov.cn/article/dffg/199106/19910600416780.shtml',),\n",
       " (u'http://fgk.chinalaw.gov.cn/article/dfgz/198009/19800900476734.shtml',),\n",
       " (u'http://fgk.chinalaw.gov.cn/article/dffg/200105/20010500424519.shtml',),\n",
       " (u'http://fgk.chinalaw.gov.cn/article/flk/201210/20121000409539.shtml',),\n",
       " (u'http://fgk.chinalaw.gov.cn/article/dfgz/198609/19860900476440.shtml',),\n",
       " (u'http://fgk.chinalaw.gov.cn/article/dfgz/199611/19961100472811.shtml',),\n",
       " (u'http://fgk.chinalaw.gov.cn/article/dfgz/201112/20111200476634.shtml',),\n",
       " (u'http://fgk.chinalaw.gov.cn/article/dffg/200909/20090900419883.shtml',))"
      ]
     },
     "execution_count": 13,
     "metadata": {},
     "output_type": "execute_result"
    }
   ],
   "source": [
    "cursor.fetchall()"
   ]
  },
  {
   "cell_type": "code",
   "execution_count": 6,
   "metadata": {
    "collapsed": false
   },
   "outputs": [
    {
     "data": {
      "text/plain": [
       "10"
      ]
     },
     "execution_count": 6,
     "metadata": {},
     "output_type": "execute_result"
    }
   ],
   "source": [
    "cursor.execute(sql)"
   ]
  },
  {
   "cell_type": "code",
   "execution_count": 7,
   "metadata": {
    "collapsed": true
   },
   "outputs": [],
   "source": [
    "rs = cursor.fetchall()"
   ]
  },
  {
   "cell_type": "code",
   "execution_count": 16,
   "metadata": {
    "collapsed": false
   },
   "outputs": [
    {
     "name": "stdout",
     "output_type": "stream",
     "text": [
      "((u'http://fgk.chinalaw.gov.cn/article/dffg/199812/19981200421733.shtml',), (u'http://fgk.chinalaw.gov.cn/article/flk/200612/20061200409378.shtml',), (u'http://fgk.chinalaw.gov.cn/article/dffg/199106/19910600416780.shtml',), (u'http://fgk.chinalaw.gov.cn/article/dfgz/198009/19800900476734.shtml',), (u'http://fgk.chinalaw.gov.cn/article/dffg/200105/20010500424519.shtml',), (u'http://fgk.chinalaw.gov.cn/article/flk/201210/20121000409539.shtml',), (u'http://fgk.chinalaw.gov.cn/article/dfgz/198609/19860900476440.shtml',), (u'http://fgk.chinalaw.gov.cn/article/dfgz/199611/19961100472811.shtml',), (u'http://fgk.chinalaw.gov.cn/article/dfgz/201112/20111200476634.shtml',), (u'http://fgk.chinalaw.gov.cn/article/dffg/200909/20090900419883.shtml',))\n"
     ]
    }
   ],
   "source": [
    "print rs"
   ]
  },
  {
   "cell_type": "code",
   "execution_count": 17,
   "metadata": {
    "collapsed": false
   },
   "outputs": [
    {
     "name": "stdout",
     "output_type": "stream",
     "text": [
      "(u'http://fgk.chinalaw.gov.cn/article/dffg/199812/19981200421733.shtml',)\n",
      "(u'http://fgk.chinalaw.gov.cn/article/flk/200612/20061200409378.shtml',)\n",
      "(u'http://fgk.chinalaw.gov.cn/article/dffg/199106/19910600416780.shtml',)\n",
      "(u'http://fgk.chinalaw.gov.cn/article/dfgz/198009/19800900476734.shtml',)\n",
      "(u'http://fgk.chinalaw.gov.cn/article/dffg/200105/20010500424519.shtml',)\n",
      "(u'http://fgk.chinalaw.gov.cn/article/flk/201210/20121000409539.shtml',)\n",
      "(u'http://fgk.chinalaw.gov.cn/article/dfgz/198609/19860900476440.shtml',)\n",
      "(u'http://fgk.chinalaw.gov.cn/article/dfgz/199611/19961100472811.shtml',)\n",
      "(u'http://fgk.chinalaw.gov.cn/article/dfgz/201112/20111200476634.shtml',)\n",
      "(u'http://fgk.chinalaw.gov.cn/article/dffg/200909/20090900419883.shtml',)\n"
     ]
    }
   ],
   "source": [
    "for rec in rs:\n",
    "    print rec"
   ]
  },
  {
   "cell_type": "code",
   "execution_count": 18,
   "metadata": {
    "collapsed": false
   },
   "outputs": [
    {
     "name": "stdout",
     "output_type": "stream",
     "text": [
      "(u'http://fgk.chinalaw.gov.cn/article/dffg/199812/19981200421733.shtml',)\n",
      "(u'http://fgk.chinalaw.gov.cn/article/flk/200612/20061200409378.shtml',)\n",
      "(u'http://fgk.chinalaw.gov.cn/article/dffg/199106/19910600416780.shtml',)\n",
      "(u'http://fgk.chinalaw.gov.cn/article/dfgz/198009/19800900476734.shtml',)\n",
      "(u'http://fgk.chinalaw.gov.cn/article/dffg/200105/20010500424519.shtml',)\n",
      "(u'http://fgk.chinalaw.gov.cn/article/flk/201210/20121000409539.shtml',)\n",
      "(u'http://fgk.chinalaw.gov.cn/article/dfgz/198609/19860900476440.shtml',)\n",
      "(u'http://fgk.chinalaw.gov.cn/article/dfgz/199611/19961100472811.shtml',)\n",
      "(u'http://fgk.chinalaw.gov.cn/article/dfgz/201112/20111200476634.shtml',)\n",
      "(u'http://fgk.chinalaw.gov.cn/article/dffg/200909/20090900419883.shtml',)\n"
     ]
    }
   ],
   "source": [
    "for (rec) in rs:\n",
    "    print rec"
   ]
  },
  {
   "cell_type": "code",
   "execution_count": 5,
   "metadata": {
    "collapsed": false
   },
   "outputs": [
    {
     "ename": "TypeError",
     "evalue": "'int' object is not iterable",
     "output_type": "error",
     "traceback": [
      "\u001b[1;31m---------------------------------------------------------------------------\u001b[0m",
      "\u001b[1;31mTypeError\u001b[0m                                 Traceback (most recent call last)",
      "\u001b[1;32m<ipython-input-5-a0fa80a6d83a>\u001b[0m in \u001b[0;36m<module>\u001b[1;34m()\u001b[0m\n\u001b[1;32m----> 1\u001b[1;33m \u001b[1;32mfor\u001b[0m \u001b[0mrec\u001b[0m \u001b[1;32min\u001b[0m \u001b[0mrs\u001b[0m\u001b[1;33m:\u001b[0m\u001b[1;33m\u001b[0m\u001b[0m\n\u001b[0m\u001b[0;32m      2\u001b[0m     \u001b[1;32mprint\u001b[0m \u001b[0mrec\u001b[0m\u001b[1;33m(\u001b[0m\u001b[1;36m0\u001b[0m\u001b[1;33m)\u001b[0m\u001b[1;33m\u001b[0m\u001b[0m\n",
      "\u001b[1;31mTypeError\u001b[0m: 'int' object is not iterable"
     ]
    }
   ],
   "source": [
    "for rec in rs:\n",
    "    print rec(0)"
   ]
  },
  {
   "cell_type": "code",
   "execution_count": 8,
   "metadata": {
    "collapsed": false
   },
   "outputs": [
    {
     "ename": "TypeError",
     "evalue": "'tuple' object is not callable",
     "output_type": "error",
     "traceback": [
      "\u001b[1;31m---------------------------------------------------------------------------\u001b[0m",
      "\u001b[1;31mTypeError\u001b[0m                                 Traceback (most recent call last)",
      "\u001b[1;32m<ipython-input-8-a0fa80a6d83a>\u001b[0m in \u001b[0;36m<module>\u001b[1;34m()\u001b[0m\n\u001b[0;32m      1\u001b[0m \u001b[1;32mfor\u001b[0m \u001b[0mrec\u001b[0m \u001b[1;32min\u001b[0m \u001b[0mrs\u001b[0m\u001b[1;33m:\u001b[0m\u001b[1;33m\u001b[0m\u001b[0m\n\u001b[1;32m----> 2\u001b[1;33m     \u001b[1;32mprint\u001b[0m \u001b[0mrec\u001b[0m\u001b[1;33m(\u001b[0m\u001b[1;36m0\u001b[0m\u001b[1;33m)\u001b[0m\u001b[1;33m\u001b[0m\u001b[0m\n\u001b[0m",
      "\u001b[1;31mTypeError\u001b[0m: 'tuple' object is not callable"
     ]
    }
   ],
   "source": [
    "for rec in rs:\n",
    "    print rec(0)"
   ]
  },
  {
   "cell_type": "code",
   "execution_count": 9,
   "metadata": {
    "collapsed": false
   },
   "outputs": [
    {
     "name": "stdout",
     "output_type": "stream",
     "text": [
      "http://fgk.chinalaw.gov.cn/article/dffg/199812/19981200421733.shtml\n",
      "http://fgk.chinalaw.gov.cn/article/flk/200612/20061200409378.shtml\n",
      "http://fgk.chinalaw.gov.cn/article/dffg/199106/19910600416780.shtml\n",
      "http://fgk.chinalaw.gov.cn/article/dfgz/198009/19800900476734.shtml\n",
      "http://fgk.chinalaw.gov.cn/article/dffg/200105/20010500424519.shtml\n",
      "http://fgk.chinalaw.gov.cn/article/flk/201210/20121000409539.shtml\n",
      "http://fgk.chinalaw.gov.cn/article/dfgz/198609/19860900476440.shtml\n",
      "http://fgk.chinalaw.gov.cn/article/dfgz/199611/19961100472811.shtml\n",
      "http://fgk.chinalaw.gov.cn/article/dfgz/201112/20111200476634.shtml\n",
      "http://fgk.chinalaw.gov.cn/article/dffg/200909/20090900419883.shtml\n"
     ]
    }
   ],
   "source": [
    "for rec in rs:\n",
    "    print rec[0]"
   ]
  },
  {
   "cell_type": "code",
   "execution_count": null,
   "metadata": {
    "collapsed": true
   },
   "outputs": [],
   "source": []
  }
 ],
 "metadata": {
  "kernelspec": {
   "display_name": "Python 2",
   "language": "python",
   "name": "python2"
  },
  "language_info": {
   "codemirror_mode": {
    "name": "ipython",
    "version": 2
   },
   "file_extension": ".py",
   "mimetype": "text/x-python",
   "name": "python",
   "nbconvert_exporter": "python",
   "pygments_lexer": "ipython2",
   "version": "2.7.11"
  }
 },
 "nbformat": 4,
 "nbformat_minor": 0
}
